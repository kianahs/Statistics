{
 "cells": [
  {
   "cell_type": "markdown",
   "id": "3ee49ab3",
   "metadata": {},
   "source": [
    "# Q1\n"
   ]
  },
  {
   "cell_type": "code",
   "execution_count": 67,
   "id": "c43c04cb",
   "metadata": {},
   "outputs": [],
   "source": [
    "def counting_measure(user_set):\n",
    "    \n",
    "    if type(user_set) != set:\n",
    "        \n",
    "        print(\"Error! input type\")\n",
    "        return \n",
    "   \n",
    "\n",
    "    return len(user_set)\n",
    "    "
   ]
  },
  {
   "cell_type": "code",
   "execution_count": 68,
   "id": "ab8258c1",
   "metadata": {},
   "outputs": [
    {
     "name": "stdout",
     "output_type": "stream",
     "text": [
      "True\n"
     ]
    }
   ],
   "source": [
    "if (counting_measure({\"a\", \"b\",\"c\",\"d\", \"e\", \"f\"}) == counting_measure({\"a\", \"b\",\"c\"}) + counting_measure({\"d\", \"e\", \"f\"})):\n",
    "    print(\"True\")\n",
    "else:\n",
    "    print(\"False\")"
   ]
  },
  {
   "cell_type": "code",
   "execution_count": 69,
   "id": "1d25ef8d",
   "metadata": {},
   "outputs": [
    {
     "name": "stdout",
     "output_type": "stream",
     "text": [
      "Error! input type\n"
     ]
    }
   ],
   "source": [
    "counting_measure(\"test\")"
   ]
  },
  {
   "cell_type": "code",
   "execution_count": 70,
   "id": "c1f62f1e",
   "metadata": {},
   "outputs": [
    {
     "data": {
      "text/plain": [
       "6"
      ]
     },
     "execution_count": 70,
     "metadata": {},
     "output_type": "execute_result"
    }
   ],
   "source": [
    "counting_measure({1,2,3,4,5,6})"
   ]
  },
  {
   "cell_type": "markdown",
   "id": "c33bf259",
   "metadata": {},
   "source": [
    "# Q2\n"
   ]
  },
  {
   "cell_type": "code",
   "execution_count": 71,
   "id": "764b1299",
   "metadata": {},
   "outputs": [],
   "source": [
    "class Interval:\n",
    "    \n",
    "    def __init__ (self, start, end):\n",
    "        \n",
    "        self.start = start\n",
    "        self.end = end\n",
    "        "
   ]
  },
  {
   "cell_type": "code",
   "execution_count": 72,
   "id": "60384d70",
   "metadata": {},
   "outputs": [],
   "source": [
    "my_interval = Interval(1, 3.5)"
   ]
  },
  {
   "cell_type": "code",
   "execution_count": 73,
   "id": "9b7cb9fa",
   "metadata": {},
   "outputs": [],
   "source": [
    "def find_length(interval):\n",
    "   \n",
    "    if not isinstance(interval, Interval):\n",
    "        print(\"Error! input type \")\n",
    "        return \n",
    "        \n",
    "    return interval.end - interval.start\n",
    "    \n",
    "    "
   ]
  },
  {
   "cell_type": "code",
   "execution_count": 74,
   "id": "a8592af7",
   "metadata": {},
   "outputs": [
    {
     "data": {
      "text/plain": [
       "2.5"
      ]
     },
     "execution_count": 74,
     "metadata": {},
     "output_type": "execute_result"
    }
   ],
   "source": [
    "find_length(my_interval)"
   ]
  },
  {
   "cell_type": "code",
   "execution_count": 75,
   "id": "51a9b13f",
   "metadata": {},
   "outputs": [
    {
     "name": "stdout",
     "output_type": "stream",
     "text": [
      "Error! input type \n"
     ]
    }
   ],
   "source": [
    "find_length(\"test\")"
   ]
  },
  {
   "cell_type": "markdown",
   "id": "a23fcba8",
   "metadata": {},
   "source": [
    "# Q3\n",
    "\n"
   ]
  },
  {
   "cell_type": "code",
   "execution_count": 76,
   "id": "f58f74cf",
   "metadata": {},
   "outputs": [],
   "source": [
    "import scipy.stats\n",
    "from scipy.stats import expon"
   ]
  },
  {
   "cell_type": "code",
   "execution_count": 77,
   "id": "f697062b",
   "metadata": {},
   "outputs": [],
   "source": [
    "def expon_measure(interval):\n",
    "    return expon.cdf(interval.end, loc=0, scale=(1/2)) - expon.cdf(interval.start, loc=0, scale=(1/2))"
   ]
  },
  {
   "cell_type": "code",
   "execution_count": 78,
   "id": "3876d04f",
   "metadata": {},
   "outputs": [
    {
     "data": {
      "text/plain": [
       "0.8646647167633873"
      ]
     },
     "execution_count": 78,
     "metadata": {},
     "output_type": "execute_result"
    }
   ],
   "source": [
    "expon_measure(Interval(0, 1))"
   ]
  },
  {
   "cell_type": "code",
   "execution_count": 79,
   "id": "738c839d",
   "metadata": {},
   "outputs": [
    {
     "data": {
      "text/plain": [
       "0.0"
      ]
     },
     "execution_count": 79,
     "metadata": {},
     "output_type": "execute_result"
    }
   ],
   "source": [
    "expon_measure(Interval(1, 1))"
   ]
  },
  {
   "cell_type": "code",
   "execution_count": 80,
   "id": "e7b35c0c",
   "metadata": {},
   "outputs": [
    {
     "data": {
      "text/plain": [
       "0.13533528117545912"
      ]
     },
     "execution_count": 80,
     "metadata": {},
     "output_type": "execute_result"
    }
   ],
   "source": [
    "expon_measure(Interval(1, 10))"
   ]
  },
  {
   "cell_type": "code",
   "execution_count": 81,
   "id": "5a8fcaec",
   "metadata": {},
   "outputs": [
    {
     "data": {
      "text/plain": [
       "1.0"
      ]
     },
     "execution_count": 81,
     "metadata": {},
     "output_type": "execute_result"
    }
   ],
   "source": [
    "expon_measure(Interval(0, float('inf')))"
   ]
  },
  {
   "cell_type": "code",
   "execution_count": 82,
   "id": "cfd67032",
   "metadata": {},
   "outputs": [
    {
     "data": {
      "text/plain": [
       "[<matplotlib.lines.Line2D at 0x1f63a4a7820>]"
      ]
     },
     "execution_count": 82,
     "metadata": {},
     "output_type": "execute_result"
    },
    {
     "data": {
      "image/png": "[encoded data removed]",
      "text/plain": [
       "<Figure size 432x288 with 1 Axes>"
      ]
     },
     "metadata": {
      "needs_background": "light"
     },
     "output_type": "display_data"
    }
   ],
   "source": [
    "import numpy as np\n",
    "import matplotlib.pyplot as plt\n",
    "fig, ax = plt.subplots(1, 1)\n",
    "x = np.linspace(expon.ppf(0.01),\n",
    "                expon.ppf(0.99), 100)\n",
    "ax.plot(x, expon.pdf(x,loc=0, scale=(1/2)),\n",
    "       'r-', lw=5, alpha=0.6, label='expon pdf')"
   ]
  },
  {
   "cell_type": "markdown",
   "id": "9b823a17",
   "metadata": {},
   "source": [
    "The pdf curve should be similar to an exponential descending graph. The graph starts from 2 at x=0 and as x increases gradually decreases.\n",
    "\n",
    "The area under the pdf curve in each interval should be equal to our result.\n",
    "\n",
    "the pdf graph is higher in the interval [0, 1] than [1, 10] so the answer is greater.\n",
    "\n",
    "same situation for [0, +inf) and [1, 10]. the area covered by the first interval is more. So, that is why our answer is greater.\n",
    "\n",
    "For [1, 1], the length of the interval is zero so the area under the graph is zero.\n",
    "\n",
    "The area under [0, +inf) is more than [0, 1] so the answer is greater."
   ]
  },
  {
   "cell_type": "markdown",
   "id": "8dcdf6bd",
   "metadata": {},
   "source": [
    "# Q4\n"
   ]
  },
  {
   "cell_type": "code",
   "execution_count": 83,
   "id": "af990174",
   "metadata": {},
   "outputs": [],
   "source": [
    "from scipy.integrate import quad\n",
    "\n",
    "expon_pdf = lambda x: expon.pdf(x, loc=0, scale=(1/2))"
   ]
  },
  {
   "cell_type": "code",
   "execution_count": 84,
   "id": "0984c961",
   "metadata": {},
   "outputs": [
    {
     "data": {
      "text/plain": [
       "(0.8646647167633872, 9.59970677131702e-15)"
      ]
     },
     "execution_count": 84,
     "metadata": {},
     "output_type": "execute_result"
    }
   ],
   "source": [
    "scipy.integrate.quad(expon_pdf, 0, 1)\n"
   ]
  },
  {
   "cell_type": "code",
   "execution_count": 85,
   "id": "2aa1a633",
   "metadata": {},
   "outputs": [
    {
     "data": {
      "text/plain": [
       "(0.0, 0.0)"
      ]
     },
     "execution_count": 85,
     "metadata": {},
     "output_type": "execute_result"
    }
   ],
   "source": [
    "scipy.integrate.quad(expon_pdf, 1, 1)\n"
   ]
  },
  {
   "cell_type": "code",
   "execution_count": 86,
   "id": "4010844b",
   "metadata": {},
   "outputs": [
    {
     "data": {
      "text/plain": [
       "(0.13533528117545912, 2.4502060294750595e-09)"
      ]
     },
     "execution_count": 86,
     "metadata": {},
     "output_type": "execute_result"
    }
   ],
   "source": [
    "scipy.integrate.quad(expon_pdf, 1, 10)\n"
   ]
  },
  {
   "cell_type": "code",
   "execution_count": 87,
   "id": "f1f09b44",
   "metadata": {},
   "outputs": [
    {
     "data": {
      "text/plain": [
       "(1.0, 1.5470063370305476e-10)"
      ]
     },
     "execution_count": 87,
     "metadata": {},
     "output_type": "execute_result"
    }
   ],
   "source": [
    "scipy.integrate.quad(expon_pdf, 0, float('inf'))\n"
   ]
  },
  {
   "cell_type": "markdown",
   "id": "21d45a4c",
   "metadata": {},
   "source": [
    "If we ignore the error, the answers for Q3 and Q4 are the same. This is because if we take the integral from the pdf function, we get cdf and if we calculate the derivative of the cdf function, we get pdf. So the area under the pdf curve is equal to cdf."
   ]
  }
 ],
 "metadata": {
  "kernelspec": {
   "display_name": "Python 3",
   "language": "python",
   "name": "python3"
  },
  "language_info": {
   "codemirror_mode": {
    "name": "ipython",
    "version": 3
   },
   "file_extension": ".py",
   "mimetype": "text/x-python",
   "name": "python",
   "nbconvert_exporter": "python",
   "pygments_lexer": "ipython3",
   "version": "3.9.1"
  }
 },
 "nbformat": 4,
 "nbformat_minor": 5
}
