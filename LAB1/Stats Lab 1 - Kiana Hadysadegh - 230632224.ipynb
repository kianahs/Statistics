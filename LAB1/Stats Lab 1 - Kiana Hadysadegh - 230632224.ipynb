{
 "cells": [
  {
   "cell_type": "markdown",
   "id": "3ee49ab3",
   "metadata": {},
   "source": [
    "# Q1\n",
    "1. (2 mark) Implement the counting measure in Python. Test that it satisfies additivity on the disjoint sets\n",
    "{\"a\", \"b\", \"c\"}, {\"d\", \"e\", \"f\"}.\n",
    "\n",
    "Hint: If you have never written a Python function, read https://www.w3schools.com/python/python_\n",
    "functions.asp, if you have never used Python sets, read https://www.w3schools.com/python/python_\n",
    "sets.asp.\n",
    "\n",
    "Bonus mark if your implementation of the counting measure checks that the input type is correct and\n",
    "raises an error otherwise.\n"
   ]
  },
  {
   "cell_type": "code",
   "execution_count": 1,
   "id": "c43c04cb",
   "metadata": {},
   "outputs": [],
   "source": [
    "def counting_measure(user_set):\n",
    "    try:\n",
    "        if not type(user_set) is set:\n",
    "\n",
    "            raise TypeError(\"Error! input type must be set\")\n",
    "\n",
    "        return len(user_set)\n",
    "    \n",
    "    except TypeError as e:\n",
    "   \n",
    "        print(f\"A TypeError occurred: {e}\")\n",
    "    "
   ]
  },
  {
   "cell_type": "markdown",
   "id": "804f0078",
   "metadata": {},
   "source": [
    "Other version of the above function with implementing len() from scratch"
   ]
  },
  {
   "cell_type": "code",
   "execution_count": 2,
   "id": "4449a027",
   "metadata": {},
   "outputs": [],
   "source": [
    "def counting_measure_v2(user_set):\n",
    "    try:\n",
    "        if not type(user_set) is set:\n",
    "\n",
    "            raise TypeError(\"Error! input type must be set\")\n",
    "\n",
    "        count = 0\n",
    "\n",
    "        for i in user_set:\n",
    "            count += 1\n",
    "\n",
    "        return count\n",
    "    \n",
    "    except TypeError as e:\n",
    "   \n",
    "        print(f\"A TypeError occurred: {e}\")"
   ]
  },
  {
   "cell_type": "markdown",
   "id": "a7aee1b1",
   "metadata": {},
   "source": [
    "Testing additivity on the disjoint sets\n",
    "{\"a\", \"b\", \"c\"}, {\"d\", \"e\", \"f\"}."
   ]
  },
  {
   "cell_type": "code",
   "execution_count": 3,
   "id": "ab8258c1",
   "metadata": {},
   "outputs": [
    {
     "data": {
      "text/plain": [
       "True"
      ]
     },
     "execution_count": 3,
     "metadata": {},
     "output_type": "execute_result"
    }
   ],
   "source": [
    "set_1 = {\"a\", \"b\",\"c\"}\n",
    "set_2 = {\"d\", \"e\", \"f\"}\n",
    "counting_measure(set_1.union(set_2)) == counting_measure(set_1) + counting_measure(set_2)"
   ]
  },
  {
   "cell_type": "markdown",
   "id": "2675def8",
   "metadata": {},
   "source": [
    "Testing type error"
   ]
  },
  {
   "cell_type": "code",
   "execution_count": 4,
   "id": "c1fccb55",
   "metadata": {},
   "outputs": [
    {
     "name": "stdout",
     "output_type": "stream",
     "text": [
      "A TypeError occurred: Error! input type must be set\n"
     ]
    }
   ],
   "source": [
    "counting_measure((1,2,3))"
   ]
  },
  {
   "cell_type": "code",
   "execution_count": 5,
   "id": "1d25ef8d",
   "metadata": {},
   "outputs": [
    {
     "name": "stdout",
     "output_type": "stream",
     "text": [
      "A TypeError occurred: Error! input type must be set\n"
     ]
    }
   ],
   "source": [
    "counting_measure(\"hello\")"
   ]
  },
  {
   "cell_type": "code",
   "execution_count": 6,
   "id": "6f4a3ee5",
   "metadata": {},
   "outputs": [
    {
     "data": {
      "text/plain": [
       "0"
      ]
     },
     "execution_count": 6,
     "metadata": {},
     "output_type": "execute_result"
    }
   ],
   "source": [
    "counting_measure(set())"
   ]
  },
  {
   "cell_type": "markdown",
   "id": "c33bf259",
   "metadata": {},
   "source": [
    "# Q2\n",
    "(2 marks) Create a Python class which implements intervals. Use this new data type to write a function\n",
    "which implements the length measure on intervals. Test it on the interval [1, 3.5].\n",
    "\n",
    "Hint: If you have never written a Python class, read https://www.w3schools.com/python/python_\n",
    "classes.asp.\n",
    "\n",
    "Bonus mark if your implementation of the length measure checks that the input type is correct and raises\n",
    "an error otherwise."
   ]
  },
  {
   "cell_type": "code",
   "execution_count": 7,
   "id": "764b1299",
   "metadata": {},
   "outputs": [],
   "source": [
    "class Interval:\n",
    "    \n",
    "    def __init__ (self, start, end):\n",
    "        \n",
    "        self.start = start\n",
    "        self.end = end\n",
    "        "
   ]
  },
  {
   "cell_type": "code",
   "execution_count": 8,
   "id": "60384d70",
   "metadata": {},
   "outputs": [],
   "source": [
    "my_interval = Interval(1, 3.5)"
   ]
  },
  {
   "cell_type": "code",
   "execution_count": 9,
   "id": "9b7cb9fa",
   "metadata": {},
   "outputs": [],
   "source": [
    "def find_length(interval):\n",
    "    try:\n",
    "        if not isinstance(interval, Interval):\n",
    "            raise TypeError(\"Error! input type must be Interval\")\n",
    "        \n",
    "        return interval.end - interval.start\n",
    "    \n",
    "    except TypeError as e:\n",
    "   \n",
    "        print(f\"A TypeError occurred: {e}\")"
   ]
  },
  {
   "cell_type": "code",
   "execution_count": 10,
   "id": "a8592af7",
   "metadata": {},
   "outputs": [
    {
     "data": {
      "text/plain": [
       "2.5"
      ]
     },
     "execution_count": 10,
     "metadata": {},
     "output_type": "execute_result"
    }
   ],
   "source": [
    "find_length(my_interval)"
   ]
  },
  {
   "cell_type": "markdown",
   "id": "0846a301",
   "metadata": {},
   "source": [
    "Check input type"
   ]
  },
  {
   "cell_type": "code",
   "execution_count": 11,
   "id": "0f4f81d8",
   "metadata": {},
   "outputs": [
    {
     "name": "stdout",
     "output_type": "stream",
     "text": [
      "A TypeError occurred: Error! input type must be Interval\n"
     ]
    }
   ],
   "source": [
    "find_length([1, 3.5])"
   ]
  },
  {
   "cell_type": "code",
   "execution_count": 12,
   "id": "51a9b13f",
   "metadata": {},
   "outputs": [
    {
     "data": {
      "text/plain": [
       "3.5"
      ]
     },
     "execution_count": 12,
     "metadata": {},
     "output_type": "execute_result"
    }
   ],
   "source": [
    "find_length(Interval(2.3, 5.8))"
   ]
  },
  {
   "cell_type": "markdown",
   "id": "a23fcba8",
   "metadata": {},
   "source": [
    "# Q3\n",
    " (3 marks) Import scipy.stats in order to access the scipy.stats.expon distribution. This implements the exponential distribution Exp(λ). Make sure you read the documentation https://docs.scipy.org/doc/scipy/reference/generated/scipy.stats.expon.html to understand how it works and how the parameter λ is encoded. Using the cdf method of scipy.stats.expon define a function called expon_measure which will take as input an interval (defined in the previous question) and will return\n",
    "its probability mass under the probability measure Exp (2) (i.e. λ = 2). Test your function by computing the probability measure of the following intervals:\n",
    "\n",
    "(a) [0, 1]\n",
    "\n",
    "(b) [1, 1]\n",
    "\n",
    "(c) [1, 10]\n",
    "\n",
    "(d) [0, ∞)\n",
    "\n",
    "\n",
    "Plot the pdf of Exp (2) on comment on whether your answers seem to make sense visually.\n"
   ]
  },
  {
   "cell_type": "code",
   "execution_count": 13,
   "id": "f58f74cf",
   "metadata": {},
   "outputs": [],
   "source": [
    "import scipy.stats\n",
    "from scipy.stats import expon"
   ]
  },
  {
   "cell_type": "code",
   "execution_count": 14,
   "id": "f697062b",
   "metadata": {},
   "outputs": [],
   "source": [
    "def expon_measure(interval, mylambda):\n",
    "    return expon.cdf(interval.end, loc=0, scale=(1/mylambda)) - expon.cdf(interval.start, loc=0, scale=(1/mylambda))"
   ]
  },
  {
   "cell_type": "code",
   "execution_count": 15,
   "id": "3876d04f",
   "metadata": {},
   "outputs": [
    {
     "data": {
      "text/plain": [
       "0.8646647167633873"
      ]
     },
     "execution_count": 15,
     "metadata": {},
     "output_type": "execute_result"
    }
   ],
   "source": [
    "expon_measure(Interval(0, 1) , 2)"
   ]
  },
  {
   "cell_type": "code",
   "execution_count": 16,
   "id": "738c839d",
   "metadata": {},
   "outputs": [
    {
     "data": {
      "text/plain": [
       "0.0"
      ]
     },
     "execution_count": 16,
     "metadata": {},
     "output_type": "execute_result"
    }
   ],
   "source": [
    "expon_measure(Interval(1, 1) , 2)"
   ]
  },
  {
   "cell_type": "code",
   "execution_count": 17,
   "id": "e7b35c0c",
   "metadata": {},
   "outputs": [
    {
     "data": {
      "text/plain": [
       "0.13533528117545912"
      ]
     },
     "execution_count": 17,
     "metadata": {},
     "output_type": "execute_result"
    }
   ],
   "source": [
    "expon_measure(Interval(1, 10) , 2)"
   ]
  },
  {
   "cell_type": "code",
   "execution_count": 18,
   "id": "5a8fcaec",
   "metadata": {},
   "outputs": [
    {
     "data": {
      "text/plain": [
       "1.0"
      ]
     },
     "execution_count": 18,
     "metadata": {},
     "output_type": "execute_result"
    }
   ],
   "source": [
    "expon_measure(Interval(0, float('inf')) , 2)"
   ]
  },
  {
   "cell_type": "code",
   "execution_count": 19,
   "id": "cfd67032",
   "metadata": {},
   "outputs": [
    {
     "data": {
      "text/plain": [
       "[<matplotlib.lines.Line2D at 0x1d402519be0>]"
      ]
     },
     "execution_count": 19,
     "metadata": {},
     "output_type": "execute_result"
    },
    {
     "data": {
      "image/png": "[encoded data removed]",
      "text/plain": [
       "<Figure size 432x288 with 1 Axes>"
      ]
     },
     "metadata": {
      "needs_background": "light"
     },
     "output_type": "display_data"
    }
   ],
   "source": [
    "import numpy as np\n",
    "import matplotlib.pyplot as plt\n",
    "fig, ax = plt.subplots(1, 1)\n",
    "x = np.linspace(expon.ppf(0.01),\n",
    "                expon.ppf(0.99), 100)\n",
    "ax.plot(x, expon.pdf(x,loc=0, scale=(1/2)),\n",
    "       'r-', lw=5, alpha=0.6, label='expon pdf')"
   ]
  },
  {
   "cell_type": "markdown",
   "id": "9b823a17",
   "metadata": {},
   "source": [
    "The pdf curve should be similar to an exponential descending graph (lambda =  2, e^-2x). The graph should start from a positive value (x=0, f(x) = 2) and as x increases gradually decrease.\n",
    "\n",
    "The area under the pdf curve in each interval should be equal to our result.\n",
    "\n",
    "To assess our answers visually:\n",
    "\n",
    "We can see that the pdf graph is relatively higher in the interval [0, 1] than [1, 10] and that is why our answer for the first interval is greater.\n",
    "\n",
    "There is also the same situation for [0, +inf) and [1, 10]. Also, the area covered by the first interval is more than the second one. So, that is why our answer for the first interval is greater.\n",
    "\n",
    "For [1, 1], the length of the interval is zero so the area under the graph is zero.\n",
    "\n",
    "The area under [0, +inf) is more than [0, 1] so the answer is greater."
   ]
  },
  {
   "cell_type": "markdown",
   "id": "8dcdf6bd",
   "metadata": {},
   "source": [
    "# Q4\n",
    "(3 marks) Using the pdf method of scipy.stats.expon, define a function called expon_pdf which will\n",
    "take one argument x and return the pdf of the probability measure Exp (2) evaluated at x. Import\n",
    "the integration routine quad from scipy.integrate, and read the documentation https://docs.scipy.org/doc/scipy/reference/generated/scipy.integrate.quad.html to see how it works. Use quad to compute and print the following integrals"
   ]
  },
  {
   "attachments": {
    "image.png": {
     "image/png": "[encoded data removed]"
    }
   },
   "cell_type": "markdown",
   "id": "6bfa1d2f",
   "metadata": {},
   "source": [
    "![image.png](attachment:image.png)"
   ]
  },
  {
   "cell_type": "markdown",
   "id": "87b7242c",
   "metadata": {},
   "source": [
    "Compare your answers with those of the previous question. What do you see? Why is this the case?"
   ]
  },
  {
   "cell_type": "code",
   "execution_count": 20,
   "id": "af990174",
   "metadata": {},
   "outputs": [],
   "source": [
    "from scipy.integrate import quad\n",
    "\n",
    "expon_pdf = lambda x: expon.pdf(x, loc=0, scale=(1/2))"
   ]
  },
  {
   "cell_type": "code",
   "execution_count": 21,
   "id": "0984c961",
   "metadata": {},
   "outputs": [
    {
     "name": "stdout",
     "output_type": "stream",
     "text": [
      "0.8646647167633872 \n",
      "error : {9.59970677131702e-15}\n"
     ]
    }
   ],
   "source": [
    "result = scipy.integrate.quad(expon_pdf, 0, 1)\n",
    "print(\"{} \\nerror : {}\".format(result[0],{result[1]}))"
   ]
  },
  {
   "cell_type": "code",
   "execution_count": 22,
   "id": "2aa1a633",
   "metadata": {},
   "outputs": [
    {
     "name": "stdout",
     "output_type": "stream",
     "text": [
      "0.0 \n",
      "error : {0.0}\n"
     ]
    }
   ],
   "source": [
    "result = scipy.integrate.quad(expon_pdf, 1, 1)\n",
    "print(\"{} \\nerror : {}\".format(result[0],{result[1]}))"
   ]
  },
  {
   "cell_type": "code",
   "execution_count": 23,
   "id": "4010844b",
   "metadata": {},
   "outputs": [
    {
     "name": "stdout",
     "output_type": "stream",
     "text": [
      "0.13533528117545912 \n",
      "error : {2.4502060294750595e-09}\n"
     ]
    }
   ],
   "source": [
    "result = scipy.integrate.quad(expon_pdf, 1, 10)\n",
    "print(\"{} \\nerror : {}\".format(result[0],{result[1]}))"
   ]
  },
  {
   "cell_type": "code",
   "execution_count": 24,
   "id": "f1f09b44",
   "metadata": {},
   "outputs": [
    {
     "name": "stdout",
     "output_type": "stream",
     "text": [
      "1.0 \n",
      "error : {1.5470063370305476e-10}\n"
     ]
    }
   ],
   "source": [
    "result = scipy.integrate.quad(expon_pdf, 0, float('inf'))\n",
    "print(\"{} \\nerror : {}\".format(result[0],{result[1]}))"
   ]
  },
  {
   "cell_type": "markdown",
   "id": "21d45a4c",
   "metadata": {},
   "source": [
    "If we ignore the error, the answers for Q3 and Q4 are the same. This is because if we take the integral from the pdf function, we get cdf and if we calculate the derivative of the cdf function, we get pdf. So the area under the pdf curve is equal to cdf."
   ]
  }
 ],
 "metadata": {
  "kernelspec": {
   "display_name": "Python 3",
   "language": "python",
   "name": "python3"
  },
  "language_info": {
   "codemirror_mode": {
    "name": "ipython",
    "version": 3
   },
   "file_extension": ".py",
   "mimetype": "text/x-python",
   "name": "python",
   "nbconvert_exporter": "python",
   "pygments_lexer": "ipython3",
   "version": "3.9.1"
  }
 },
 "nbformat": 4,
 "nbformat_minor": 5
}
